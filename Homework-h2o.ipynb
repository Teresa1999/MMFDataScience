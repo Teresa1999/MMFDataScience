{
 "cells": [
  {
   "cell_type": "code",
   "execution_count": 1,
   "id": "bed58f06",
   "metadata": {},
   "outputs": [
    {
     "name": "stdout",
     "output_type": "stream",
     "text": [
      "Looking in links: http://h2o-release.s3.amazonaws.com/h2o/latest_stable_Py.html\n",
      "Requirement already satisfied: h2o in /opt/anaconda3/lib/python3.8/site-packages (3.38.0.2)\n",
      "Requirement already satisfied: tabulate in /opt/anaconda3/lib/python3.8/site-packages (from h2o) (0.8.10)\n",
      "Requirement already satisfied: requests in /opt/anaconda3/lib/python3.8/site-packages (from h2o) (2.28.1)\n",
      "Requirement already satisfied: future in /opt/anaconda3/lib/python3.8/site-packages (from h2o) (0.18.2)\n",
      "Requirement already satisfied: charset-normalizer<3,>=2 in /opt/anaconda3/lib/python3.8/site-packages (from requests->h2o) (2.1.1)\n",
      "Requirement already satisfied: certifi>=2017.4.17 in /opt/anaconda3/lib/python3.8/site-packages (from requests->h2o) (2020.12.5)\n",
      "Requirement already satisfied: urllib3<1.27,>=1.21.1 in /opt/anaconda3/lib/python3.8/site-packages (from requests->h2o) (1.26.4)\n",
      "Requirement already satisfied: idna<4,>=2.5 in /opt/anaconda3/lib/python3.8/site-packages (from requests->h2o) (2.10)\n",
      "Note: you may need to restart the kernel to use updated packages.\n"
     ]
    }
   ],
   "source": [
    "pip install -f http://h2o-release.s3.amazonaws.com/h2o/latest_stable_Py.html h2o"
   ]
  },
  {
   "cell_type": "code",
   "execution_count": 2,
   "id": "35cd2917",
   "metadata": {},
   "outputs": [
    {
     "name": "stdout",
     "output_type": "stream",
     "text": [
      "Checking whether there is an H2O instance running at http://localhost:54321 ..... not found.\n",
      "Attempting to start a local H2O server...\n",
      "  Java Version: java version \"1.8.0_351\"; Java(TM) SE Runtime Environment (build 1.8.0_351-b10); Java HotSpot(TM) 64-Bit Server VM (build 25.351-b10, mixed mode)\n",
      "  Starting server from /opt/anaconda3/lib/python3.8/site-packages/h2o/backend/bin/h2o.jar\n",
      "  Ice root: /var/folders/v_/5gt8tw6d60xghpns4kwyfsd00000gn/T/tmpkkpmgfkm\n",
      "  JVM stdout: /var/folders/v_/5gt8tw6d60xghpns4kwyfsd00000gn/T/tmpkkpmgfkm/h2o_teresadai_started_from_python.out\n",
      "  JVM stderr: /var/folders/v_/5gt8tw6d60xghpns4kwyfsd00000gn/T/tmpkkpmgfkm/h2o_teresadai_started_from_python.err\n",
      "  Server is running at http://127.0.0.1:54321\n",
      "Connecting to H2O server at http://127.0.0.1:54321 ... successful.\n"
     ]
    },
    {
     "data": {
      "text/html": [
       "\n",
       "<style>\n",
       "\n",
       "#h2o-table-1.h2o-container {\n",
       "  overflow-x: auto;\n",
       "}\n",
       "#h2o-table-1 .h2o-table {\n",
       "  /* width: 100%; */\n",
       "  margin-top: 1em;\n",
       "  margin-bottom: 1em;\n",
       "}\n",
       "#h2o-table-1 .h2o-table caption {\n",
       "  white-space: nowrap;\n",
       "  caption-side: top;\n",
       "  text-align: left;\n",
       "  /* margin-left: 1em; */\n",
       "  margin: 0;\n",
       "  font-size: larger;\n",
       "}\n",
       "#h2o-table-1 .h2o-table thead {\n",
       "  white-space: nowrap; \n",
       "  position: sticky;\n",
       "  top: 0;\n",
       "  box-shadow: 0 -1px inset;\n",
       "}\n",
       "#h2o-table-1 .h2o-table tbody {\n",
       "  overflow: auto;\n",
       "}\n",
       "#h2o-table-1 .h2o-table th,\n",
       "#h2o-table-1 .h2o-table td {\n",
       "  text-align: right;\n",
       "  /* border: 1px solid; */\n",
       "}\n",
       "#h2o-table-1 .h2o-table tr:nth-child(even) {\n",
       "  /* background: #F5F5F5 */\n",
       "}\n",
       "\n",
       "</style>      \n",
       "<div id=\"h2o-table-1\" class=\"h2o-container\">\n",
       "  <table class=\"h2o-table\">\n",
       "    <caption></caption>\n",
       "    <thead></thead>\n",
       "    <tbody><tr><td>H2O_cluster_uptime:</td>\n",
       "<td>07 secs</td></tr>\n",
       "<tr><td>H2O_cluster_timezone:</td>\n",
       "<td>America/Toronto</td></tr>\n",
       "<tr><td>H2O_data_parsing_timezone:</td>\n",
       "<td>UTC</td></tr>\n",
       "<tr><td>H2O_cluster_version:</td>\n",
       "<td>3.38.0.2</td></tr>\n",
       "<tr><td>H2O_cluster_version_age:</td>\n",
       "<td>14 days, 3 hours and 8 minutes </td></tr>\n",
       "<tr><td>H2O_cluster_name:</td>\n",
       "<td>H2O_from_python_teresadai_ogk1i2</td></tr>\n",
       "<tr><td>H2O_cluster_total_nodes:</td>\n",
       "<td>1</td></tr>\n",
       "<tr><td>H2O_cluster_free_memory:</td>\n",
       "<td>3.541 Gb</td></tr>\n",
       "<tr><td>H2O_cluster_total_cores:</td>\n",
       "<td>8</td></tr>\n",
       "<tr><td>H2O_cluster_allowed_cores:</td>\n",
       "<td>8</td></tr>\n",
       "<tr><td>H2O_cluster_status:</td>\n",
       "<td>locked, healthy</td></tr>\n",
       "<tr><td>H2O_connection_url:</td>\n",
       "<td>http://127.0.0.1:54321</td></tr>\n",
       "<tr><td>H2O_connection_proxy:</td>\n",
       "<td>{\"http\": null, \"https\": null}</td></tr>\n",
       "<tr><td>H2O_internal_security:</td>\n",
       "<td>False</td></tr>\n",
       "<tr><td>Python_version:</td>\n",
       "<td>3.8.8 final</td></tr></tbody>\n",
       "  </table>\n",
       "</div>\n"
      ],
      "text/plain": [
       "--------------------------  --------------------------------\n",
       "H2O_cluster_uptime:         07 secs\n",
       "H2O_cluster_timezone:       America/Toronto\n",
       "H2O_data_parsing_timezone:  UTC\n",
       "H2O_cluster_version:        3.38.0.2\n",
       "H2O_cluster_version_age:    14 days, 3 hours and 8 minutes\n",
       "H2O_cluster_name:           H2O_from_python_teresadai_ogk1i2\n",
       "H2O_cluster_total_nodes:    1\n",
       "H2O_cluster_free_memory:    3.541 Gb\n",
       "H2O_cluster_total_cores:    8\n",
       "H2O_cluster_allowed_cores:  8\n",
       "H2O_cluster_status:         locked, healthy\n",
       "H2O_connection_url:         http://127.0.0.1:54321\n",
       "H2O_connection_proxy:       {\"http\": null, \"https\": null}\n",
       "H2O_internal_security:      False\n",
       "Python_version:             3.8.8 final\n",
       "--------------------------  --------------------------------"
      ]
     },
     "metadata": {},
     "output_type": "display_data"
    }
   ],
   "source": [
    "import h2o\n",
    "h2o.init()"
   ]
  },
  {
   "cell_type": "code",
   "execution_count": 3,
   "id": "f2f04f36",
   "metadata": {},
   "outputs": [],
   "source": [
    "from h2o.automl import H2OAutoML"
   ]
  },
  {
   "cell_type": "code",
   "execution_count": 4,
   "id": "478b6c93",
   "metadata": {},
   "outputs": [
    {
     "name": "stdout",
     "output_type": "stream",
     "text": [
      "Parse progress: |████████████████████████████████████████████████████████████████| (done) 100%\n",
      "Parse progress: |████████████████████████████████████████████████████████████████| (done) 100%\n"
     ]
    }
   ],
   "source": [
    "train = h2o.import_file(\"train.csv\")\n",
    "test = h2o.import_file(\"test.csv\")"
   ]
  },
  {
   "cell_type": "code",
   "execution_count": 5,
   "id": "e80cee0a",
   "metadata": {},
   "outputs": [],
   "source": [
    "from h2o.estimators.gbm import H2OGradientBoostingEstimator"
   ]
  },
  {
   "cell_type": "code",
   "execution_count": 6,
   "id": "288ac328",
   "metadata": {},
   "outputs": [],
   "source": [
    "train_as_df = h2o.as_list(train,use_pandas=True)"
   ]
  },
  {
   "cell_type": "code",
   "execution_count": 7,
   "id": "945c24ee",
   "metadata": {},
   "outputs": [
    {
     "data": {
      "text/plain": [
       "C1         0.0\n",
       "carat      0.0\n",
       "cut        0.0\n",
       "color      0.0\n",
       "clarity    0.0\n",
       "depth      0.0\n",
       "table      0.0\n",
       "price      0.0\n",
       "x          0.0\n",
       "y          0.0\n",
       "z          0.0\n",
       "dtype: float64"
      ]
     },
     "execution_count": 7,
     "metadata": {},
     "output_type": "execute_result"
    }
   ],
   "source": [
    "round((train_as_df.isnull().sum() * 100/ len(train_as_df)),2).sort_values(ascending=False)"
   ]
  },
  {
   "cell_type": "code",
   "execution_count": 8,
   "id": "44efaeb5",
   "metadata": {},
   "outputs": [
    {
     "name": "stdout",
     "output_type": "stream",
     "text": [
      "Parse progress: |████████████████████████████████████████████████████████████████| (done) 100%\n"
     ]
    }
   ],
   "source": [
    "train = h2o.H2OFrame(train_as_df)"
   ]
  },
  {
   "cell_type": "code",
   "execution_count": 9,
   "id": "6c7aba17",
   "metadata": {},
   "outputs": [],
   "source": [
    "x = train.columns\n",
    "y = \"price\"\n",
    "x.remove(y)"
   ]
  },
  {
   "cell_type": "code",
   "execution_count": 10,
   "id": "4008578b",
   "metadata": {},
   "outputs": [
    {
     "name": "stdout",
     "output_type": "stream",
     "text": [
      "AutoML progress: |███████████████████████████████████████████████████████████████| (done) 100%\n"
     ]
    },
    {
     "data": {
      "text/html": [
       "<pre style='margin: 1em 0 1em 0;'>Model Details\n",
       "=============\n",
       "H2OStackedEnsembleEstimator : Stacked Ensemble\n",
       "Model Key: StackedEnsemble_AllModels_1_AutoML_1_20221110_190430\n",
       "\n",
       "No summary for this model</pre>\n",
       "<div style='margin: 1em 0 1em 0;'><pre style='margin: 1em 0 1em 0;'>ModelMetricsRegressionGLM: stackedensemble\n",
       "** Reported on train data. **\n",
       "\n",
       "MSE: 154231.79640513763\n",
       "RMSE: 392.72356232487203\n",
       "MAE: 214.31613318788575\n",
       "RMSLE: 0.07963828775625618\n",
       "Mean Residual Deviance: 154231.79640513763\n",
       "R^2: 0.9902577400533554\n",
       "Null degrees of freedom: 9991\n",
       "Residual degrees of freedom: 9984\n",
       "Null deviance: 158187582794.45926\n",
       "Residual deviance: 1541084109.6801353\n",
       "AIC: 147740.6171644177</pre></div>\n",
       "<div style='margin: 1em 0 1em 0;'><pre style='margin: 1em 0 1em 0;'>ModelMetricsRegressionGLM: stackedensemble\n",
       "** Reported on cross-validation data. **\n",
       "\n",
       "MSE: 280779.63539971167\n",
       "RMSE: 529.8864363235878\n",
       "MAE: 267.1776066029908\n",
       "RMSLE: 0.09321308553385227\n",
       "Mean Residual Deviance: 280779.63539971167\n",
       "R^2: 0.9824390793250748\n",
       "Null degrees of freedom: 43153\n",
       "Residual degrees of freedom: 43145\n",
       "Null deviance: 689997706755.0226\n",
       "Residual deviance: 12116764386.039158\n",
       "AIC: 663866.7203142158</pre></div>\n",
       "<div style='margin: 1em 0 1em 0;'>\n",
       "<style>\n",
       "\n",
       "#h2o-table-2.h2o-container {\n",
       "  overflow-x: auto;\n",
       "}\n",
       "#h2o-table-2 .h2o-table {\n",
       "  /* width: 100%; */\n",
       "  margin-top: 1em;\n",
       "  margin-bottom: 1em;\n",
       "}\n",
       "#h2o-table-2 .h2o-table caption {\n",
       "  white-space: nowrap;\n",
       "  caption-side: top;\n",
       "  text-align: left;\n",
       "  /* margin-left: 1em; */\n",
       "  margin: 0;\n",
       "  font-size: larger;\n",
       "}\n",
       "#h2o-table-2 .h2o-table thead {\n",
       "  white-space: nowrap; \n",
       "  position: sticky;\n",
       "  top: 0;\n",
       "  box-shadow: 0 -1px inset;\n",
       "}\n",
       "#h2o-table-2 .h2o-table tbody {\n",
       "  overflow: auto;\n",
       "}\n",
       "#h2o-table-2 .h2o-table th,\n",
       "#h2o-table-2 .h2o-table td {\n",
       "  text-align: right;\n",
       "  /* border: 1px solid; */\n",
       "}\n",
       "#h2o-table-2 .h2o-table tr:nth-child(even) {\n",
       "  /* background: #F5F5F5 */\n",
       "}\n",
       "\n",
       "</style>      \n",
       "<div id=\"h2o-table-2\" class=\"h2o-container\">\n",
       "  <table class=\"h2o-table\">\n",
       "    <caption>Cross-Validation Metrics Summary: </caption>\n",
       "    <thead><tr><th></th>\n",
       "<th>mean</th>\n",
       "<th>sd</th>\n",
       "<th>cv_1_valid</th>\n",
       "<th>cv_2_valid</th>\n",
       "<th>cv_3_valid</th>\n",
       "<th>cv_4_valid</th>\n",
       "<th>cv_5_valid</th></tr></thead>\n",
       "    <tbody><tr><td>mae</td>\n",
       "<td>267.1776</td>\n",
       "<td>2.6999137</td>\n",
       "<td>263.11368</td>\n",
       "<td>269.97083</td>\n",
       "<td>268.61472</td>\n",
       "<td>268.2695</td>\n",
       "<td>265.9194</td></tr>\n",
       "<tr><td>mean_residual_deviance</td>\n",
       "<td>280594.84</td>\n",
       "<td>6696.209</td>\n",
       "<td>277100.7</td>\n",
       "<td>277883.22</td>\n",
       "<td>289154.22</td>\n",
       "<td>285889.56</td>\n",
       "<td>272946.47</td></tr>\n",
       "<tr><td>mse</td>\n",
       "<td>280594.84</td>\n",
       "<td>6696.209</td>\n",
       "<td>277100.7</td>\n",
       "<td>277883.22</td>\n",
       "<td>289154.22</td>\n",
       "<td>285889.56</td>\n",
       "<td>272946.47</td></tr>\n",
       "<tr><td>null_deviance</td>\n",
       "<td>137999548000.0000000</td>\n",
       "<td>1440003200.0000000</td>\n",
       "<td>136297873000.0000000</td>\n",
       "<td>137315467000.0000000</td>\n",
       "<td>138870440000.0000000</td>\n",
       "<td>139986797000.0000000</td>\n",
       "<td>137527132000.0000000</td></tr>\n",
       "<tr><td>r2</td>\n",
       "<td>0.9824498</td>\n",
       "<td>0.0004091</td>\n",
       "<td>0.9823917</td>\n",
       "<td>0.9826264</td>\n",
       "<td>0.981834</td>\n",
       "<td>0.9824416</td>\n",
       "<td>0.9829553</td></tr>\n",
       "<tr><td>residual_deviance</td>\n",
       "<td>2421949700.0000000</td>\n",
       "<td>69389576.0000000</td>\n",
       "<td>2399969020.0000000</td>\n",
       "<td>2385627390.0000000</td>\n",
       "<td>2522581500.0000000</td>\n",
       "<td>2457506820.0000000</td>\n",
       "<td>2344064260.0000000</td></tr>\n",
       "<tr><td>rmse</td>\n",
       "<td>529.68195</td>\n",
       "<td>6.312862</td>\n",
       "<td>526.4035</td>\n",
       "<td>527.1463</td>\n",
       "<td>537.73065</td>\n",
       "<td>534.6864</td>\n",
       "<td>522.4428</td></tr>\n",
       "<tr><td>rmsle</td>\n",
       "<td>0.0930539</td>\n",
       "<td>0.0010533</td>\n",
       "<td>0.0920965</td>\n",
       "<td>0.0944238</td>\n",
       "<td>0.0923395</td>\n",
       "<td>0.0924668</td>\n",
       "<td>0.0939428</td></tr></tbody>\n",
       "  </table>\n",
       "</div>\n",
       "</div><pre style=\"font-size: smaller; margin: 1em 0 0 0;\">\n",
       "\n",
       "[tips]\n",
       "Use `model.explain()` to inspect the model.\n",
       "--\n",
       "Use `h2o.display.toggle_user_tips()` to switch on/off this section.</pre>"
      ],
      "text/plain": [
       "Model Details\n",
       "=============\n",
       "H2OStackedEnsembleEstimator : Stacked Ensemble\n",
       "Model Key: StackedEnsemble_AllModels_1_AutoML_1_20221110_190430\n",
       "\n",
       "No summary for this model\n",
       "\n",
       "ModelMetricsRegressionGLM: stackedensemble\n",
       "** Reported on train data. **\n",
       "\n",
       "MSE: 154231.79640513763\n",
       "RMSE: 392.72356232487203\n",
       "MAE: 214.31613318788575\n",
       "RMSLE: 0.07963828775625618\n",
       "Mean Residual Deviance: 154231.79640513763\n",
       "R^2: 0.9902577400533554\n",
       "Null degrees of freedom: 9991\n",
       "Residual degrees of freedom: 9984\n",
       "Null deviance: 158187582794.45926\n",
       "Residual deviance: 1541084109.6801353\n",
       "AIC: 147740.6171644177\n",
       "\n",
       "ModelMetricsRegressionGLM: stackedensemble\n",
       "** Reported on cross-validation data. **\n",
       "\n",
       "MSE: 280779.63539971167\n",
       "RMSE: 529.8864363235878\n",
       "MAE: 267.1776066029908\n",
       "RMSLE: 0.09321308553385227\n",
       "Mean Residual Deviance: 280779.63539971167\n",
       "R^2: 0.9824390793250748\n",
       "Null degrees of freedom: 43153\n",
       "Residual degrees of freedom: 43145\n",
       "Null deviance: 689997706755.0226\n",
       "Residual deviance: 12116764386.039158\n",
       "AIC: 663866.7203142158\n",
       "\n",
       "Cross-Validation Metrics Summary: \n",
       "                        mean         sd           cv_1_valid    cv_2_valid    cv_3_valid    cv_4_valid    cv_5_valid\n",
       "----------------------  -----------  -----------  ------------  ------------  ------------  ------------  ------------\n",
       "mae                     267.178      2.69991      263.114       269.971       268.615       268.269       265.919\n",
       "mean_residual_deviance  280595       6696.21      277101        277883        289154        285890        272946\n",
       "mse                     280595       6696.21      277101        277883        289154        285890        272946\n",
       "null_deviance           1.38e+11     1.44e+09     1.36298e+11   1.37315e+11   1.3887e+11    1.39987e+11   1.37527e+11\n",
       "r2                      0.98245      0.000409097  0.982392      0.982626      0.981834      0.982442      0.982955\n",
       "residual_deviance       2.42195e+09  6.93896e+07  2.39997e+09   2.38563e+09   2.52258e+09   2.45751e+09   2.34406e+09\n",
       "rmse                    529.682      6.31286      526.404       527.146       537.731       534.686       522.443\n",
       "rmsle                   0.0930539    0.00105335   0.0920965     0.0944238     0.0923395     0.0924668     0.0939428\n",
       "\n",
       "[tips]\n",
       "Use `model.explain()` to inspect the model.\n",
       "--\n",
       "Use `h2o.display.toggle_user_tips()` to switch on/off this section."
      ]
     },
     "execution_count": 10,
     "metadata": {},
     "output_type": "execute_result"
    }
   ],
   "source": [
    "aml = H2OAutoML(max_models=10, seed=1)\n",
    "aml.train(x=x, y=y, training_frame=train)"
   ]
  },
  {
   "cell_type": "code",
   "execution_count": 11,
   "id": "a2d6d4d5",
   "metadata": {},
   "outputs": [
    {
     "data": {
      "text/html": [
       "<table class='dataframe'>\n",
       "<thead>\n",
       "<tr><th>model_id                                               </th><th style=\"text-align: right;\">    rmse</th><th style=\"text-align: right;\">             mse</th><th style=\"text-align: right;\">     mae</th><th style=\"text-align: right;\">      rmsle</th><th style=\"text-align: right;\">  mean_residual_deviance</th></tr>\n",
       "</thead>\n",
       "<tbody>\n",
       "<tr><td>StackedEnsemble_AllModels_1_AutoML_1_20221110_190430   </td><td style=\"text-align: right;\"> 529.886</td><td style=\"text-align: right;\">280780          </td><td style=\"text-align: right;\"> 267.178</td><td style=\"text-align: right;\">  0.0932131</td><td style=\"text-align: right;\">        280780          </td></tr>\n",
       "<tr><td>StackedEnsemble_BestOfFamily_1_AutoML_1_20221110_190430</td><td style=\"text-align: right;\"> 535.294</td><td style=\"text-align: right;\">286540          </td><td style=\"text-align: right;\"> 273.689</td><td style=\"text-align: right;\">  0.099833 </td><td style=\"text-align: right;\">        286540          </td></tr>\n",
       "<tr><td>GBM_2_AutoML_1_20221110_190430                         </td><td style=\"text-align: right;\"> 538.022</td><td style=\"text-align: right;\">289468          </td><td style=\"text-align: right;\"> 276.409</td><td style=\"text-align: right;\">nan        </td><td style=\"text-align: right;\">        289468          </td></tr>\n",
       "<tr><td>GBM_4_AutoML_1_20221110_190430                         </td><td style=\"text-align: right;\"> 538.169</td><td style=\"text-align: right;\">289625          </td><td style=\"text-align: right;\"> 271.108</td><td style=\"text-align: right;\">nan        </td><td style=\"text-align: right;\">        289625          </td></tr>\n",
       "<tr><td>GBM_3_AutoML_1_20221110_190430                         </td><td style=\"text-align: right;\"> 539.49 </td><td style=\"text-align: right;\">291049          </td><td style=\"text-align: right;\"> 275.121</td><td style=\"text-align: right;\">nan        </td><td style=\"text-align: right;\">        291049          </td></tr>\n",
       "<tr><td>GBM_1_AutoML_1_20221110_190430                         </td><td style=\"text-align: right;\"> 548.956</td><td style=\"text-align: right;\">301353          </td><td style=\"text-align: right;\"> 274.145</td><td style=\"text-align: right;\">  0.093985 </td><td style=\"text-align: right;\">        301353          </td></tr>\n",
       "<tr><td>XGBoost_3_AutoML_1_20221110_190430                     </td><td style=\"text-align: right;\"> 582.8  </td><td style=\"text-align: right;\">339656          </td><td style=\"text-align: right;\"> 311.758</td><td style=\"text-align: right;\">nan        </td><td style=\"text-align: right;\">        339656          </td></tr>\n",
       "<tr><td>DRF_1_AutoML_1_20221110_190430                         </td><td style=\"text-align: right;\"> 586.18 </td><td style=\"text-align: right;\">343607          </td><td style=\"text-align: right;\"> 294.56 </td><td style=\"text-align: right;\">  0.0990294</td><td style=\"text-align: right;\">        343607          </td></tr>\n",
       "<tr><td>XGBoost_2_AutoML_1_20221110_190430                     </td><td style=\"text-align: right;\"> 589.153</td><td style=\"text-align: right;\">347101          </td><td style=\"text-align: right;\"> 301.246</td><td style=\"text-align: right;\">nan        </td><td style=\"text-align: right;\">        347101          </td></tr>\n",
       "<tr><td>XGBoost_1_AutoML_1_20221110_190430                     </td><td style=\"text-align: right;\"> 593.248</td><td style=\"text-align: right;\">351943          </td><td style=\"text-align: right;\"> 300.064</td><td style=\"text-align: right;\">  0.100939 </td><td style=\"text-align: right;\">        351943          </td></tr>\n",
       "<tr><td>XRT_1_AutoML_1_20221110_190430                         </td><td style=\"text-align: right;\"> 740.9  </td><td style=\"text-align: right;\">548932          </td><td style=\"text-align: right;\"> 386.648</td><td style=\"text-align: right;\">  0.127521 </td><td style=\"text-align: right;\">        548932          </td></tr>\n",
       "<tr><td>GLM_1_AutoML_1_20221110_190430                         </td><td style=\"text-align: right;\">3998.58 </td><td style=\"text-align: right;\">     1.59886e+07</td><td style=\"text-align: right;\">3044.8  </td><td style=\"text-align: right;\">  1.12822  </td><td style=\"text-align: right;\">             1.59886e+07</td></tr>\n",
       "</tbody>\n",
       "</table><pre style='font-size: smaller; margin-bottom: 1em;'>[12 rows x 6 columns]</pre>"
      ],
      "text/plain": [
       "model_id                                                     rmse               mse       mae        rmsle    mean_residual_deviance\n",
       "-------------------------------------------------------  --------  ----------------  --------  -----------  ------------------------\n",
       "StackedEnsemble_AllModels_1_AutoML_1_20221110_190430      529.886  280780             267.178    0.0932131          280780\n",
       "StackedEnsemble_BestOfFamily_1_AutoML_1_20221110_190430   535.294  286540             273.689    0.099833           286540\n",
       "GBM_2_AutoML_1_20221110_190430                            538.022  289468             276.409  nan                  289468\n",
       "GBM_4_AutoML_1_20221110_190430                            538.169  289625             271.108  nan                  289625\n",
       "GBM_3_AutoML_1_20221110_190430                            539.49   291049             275.121  nan                  291049\n",
       "GBM_1_AutoML_1_20221110_190430                            548.956  301353             274.145    0.093985           301353\n",
       "XGBoost_3_AutoML_1_20221110_190430                        582.8    339656             311.758  nan                  339656\n",
       "DRF_1_AutoML_1_20221110_190430                            586.18   343607             294.56     0.0990294          343607\n",
       "XGBoost_2_AutoML_1_20221110_190430                        589.153  347101             301.246  nan                  347101\n",
       "XGBoost_1_AutoML_1_20221110_190430                        593.248  351943             300.064    0.100939           351943\n",
       "XRT_1_AutoML_1_20221110_190430                            740.9    548932             386.648    0.127521           548932\n",
       "GLM_1_AutoML_1_20221110_190430                           3998.58        1.59886e+07  3044.8      1.12822                 1.59886e+07\n",
       "[12 rows x 6 columns]\n"
      ]
     },
     "execution_count": 11,
     "metadata": {},
     "output_type": "execute_result"
    }
   ],
   "source": [
    "lb = aml.leaderboard\n",
    "lb.head(rows=lb.nrows)"
   ]
  },
  {
   "cell_type": "code",
   "execution_count": 12,
   "id": "4514b847",
   "metadata": {},
   "outputs": [
    {
     "name": "stdout",
     "output_type": "stream",
     "text": [
      "stackedensemble prediction progress: |███████████████████████████████████████████| (done) 100%\n"
     ]
    },
    {
     "name": "stderr",
     "output_type": "stream",
     "text": [
      "/opt/anaconda3/lib/python3.8/site-packages/h2o/job.py:83: UserWarning: Test/Validation dataset is missing column 'C1': substituting in a column of NaN\n",
      "  warnings.warn(w)\n"
     ]
    }
   ],
   "source": [
    "preds = aml.leader.predict(test)"
   ]
  },
  {
   "cell_type": "code",
   "execution_count": 13,
   "id": "5ac58c1b",
   "metadata": {},
   "outputs": [
    {
     "data": {
      "text/html": [
       "<table class='dataframe'>\n",
       "<thead>\n",
       "<tr><th style=\"text-align: right;\">  id</th><th style=\"text-align: right;\">  carat</th><th>cut      </th><th>color  </th><th>clarity  </th><th style=\"text-align: right;\">  depth</th><th style=\"text-align: right;\">  table</th><th style=\"text-align: right;\">   x</th><th style=\"text-align: right;\">   y</th><th style=\"text-align: right;\">   z</th><th style=\"text-align: right;\">  predict</th></tr>\n",
       "</thead>\n",
       "<tbody>\n",
       "<tr><td style=\"text-align: right;\">   0</td><td style=\"text-align: right;\">   0.24</td><td>Ideal    </td><td>G      </td><td>VVS1     </td><td style=\"text-align: right;\">   62.1</td><td style=\"text-align: right;\">     56</td><td style=\"text-align: right;\">3.97</td><td style=\"text-align: right;\">4   </td><td style=\"text-align: right;\">2.47</td><td style=\"text-align: right;\">  517.334</td></tr>\n",
       "<tr><td style=\"text-align: right;\">   1</td><td style=\"text-align: right;\">   1.21</td><td>Very Good</td><td>F      </td><td>VS2      </td><td style=\"text-align: right;\">   62.9</td><td style=\"text-align: right;\">     54</td><td style=\"text-align: right;\">6.78</td><td style=\"text-align: right;\">6.82</td><td style=\"text-align: right;\">4.28</td><td style=\"text-align: right;\"> 8345.35 </td></tr>\n",
       "</tbody>\n",
       "</table><pre style='font-size: smaller; margin-bottom: 1em;'>[2 rows x 11 columns]</pre>"
      ],
      "text/plain": [
       "  id    carat  cut        color    clarity      depth    table     x     y     z    predict\n",
       "----  -------  ---------  -------  ---------  -------  -------  ----  ----  ----  ---------\n",
       "   0     0.24  Ideal      G        VVS1          62.1       56  3.97  4     2.47    517.334\n",
       "   1     1.21  Very Good  F        VS2           62.9       54  6.78  6.82  4.28   8345.35\n",
       "[2 rows x 11 columns]\n"
      ]
     },
     "execution_count": 13,
     "metadata": {},
     "output_type": "execute_result"
    }
   ],
   "source": [
    "df = test.cbind(preds)\n",
    "df.head(2)"
   ]
  },
  {
   "cell_type": "code",
   "execution_count": 14,
   "id": "150042b6",
   "metadata": {},
   "outputs": [
    {
     "data": {
      "text/html": [
       "<table class='dataframe'>\n",
       "<thead>\n",
       "<tr><th style=\"text-align: right;\">  id</th><th style=\"text-align: right;\">  predict</th></tr>\n",
       "</thead>\n",
       "<tbody>\n",
       "<tr><td style=\"text-align: right;\">   0</td><td style=\"text-align: right;\">  517.334</td></tr>\n",
       "<tr><td style=\"text-align: right;\">   1</td><td style=\"text-align: right;\"> 8345.35 </td></tr>\n",
       "</tbody>\n",
       "</table><pre style='font-size: smaller; margin-bottom: 1em;'>[2 rows x 2 columns]</pre>"
      ],
      "text/plain": [
       "  id    predict\n",
       "----  ---------\n",
       "   0    517.334\n",
       "   1   8345.35\n",
       "[2 rows x 2 columns]\n"
      ]
     },
     "execution_count": 14,
     "metadata": {},
     "output_type": "execute_result"
    }
   ],
   "source": [
    "res = df[:, [\"id\", \"predict\"]]\n",
    "res.head(2)"
   ]
  },
  {
   "cell_type": "code",
   "execution_count": 15,
   "id": "94501528",
   "metadata": {},
   "outputs": [
    {
     "data": {
      "text/html": [
       "<table class='dataframe'>\n",
       "<thead>\n",
       "<tr><th style=\"text-align: right;\">  id</th><th style=\"text-align: right;\">    price</th></tr>\n",
       "</thead>\n",
       "<tbody>\n",
       "<tr><td style=\"text-align: right;\">   0</td><td style=\"text-align: right;\">  517.334</td></tr>\n",
       "<tr><td style=\"text-align: right;\">   1</td><td style=\"text-align: right;\"> 8345.35 </td></tr>\n",
       "<tr><td style=\"text-align: right;\">   2</td><td style=\"text-align: right;\"> 1271.85 </td></tr>\n",
       "<tr><td style=\"text-align: right;\">   3</td><td style=\"text-align: right;\"> 1193.64 </td></tr>\n",
       "<tr><td style=\"text-align: right;\">   4</td><td style=\"text-align: right;\">10010    </td></tr>\n",
       "<tr><td style=\"text-align: right;\">   5</td><td style=\"text-align: right;\"> 3808.4  </td></tr>\n",
       "<tr><td style=\"text-align: right;\">   6</td><td style=\"text-align: right;\"> 1739.37 </td></tr>\n",
       "<tr><td style=\"text-align: right;\">   7</td><td style=\"text-align: right;\">12681.9  </td></tr>\n",
       "<tr><td style=\"text-align: right;\">   8</td><td style=\"text-align: right;\"> 1986.66 </td></tr>\n",
       "<tr><td style=\"text-align: right;\">   9</td><td style=\"text-align: right;\"> 5676.59 </td></tr>\n",
       "</tbody>\n",
       "</table><pre style='font-size: smaller; margin-bottom: 1em;'>[10789 rows x 2 columns]</pre>"
      ],
      "text/plain": [
       "  id      price\n",
       "----  ---------\n",
       "   0    517.334\n",
       "   1   8345.35\n",
       "   2   1271.85\n",
       "   3   1193.64\n",
       "   4  10010\n",
       "   5   3808.4\n",
       "   6   1739.37\n",
       "   7  12681.9\n",
       "   8   1986.66\n",
       "   9   5676.59\n",
       "[10789 rows x 2 columns]\n"
      ]
     },
     "execution_count": 15,
     "metadata": {},
     "output_type": "execute_result"
    }
   ],
   "source": [
    "res.set_names(['id','price'])"
   ]
  },
  {
   "cell_type": "code",
   "execution_count": 16,
   "id": "0641ecfd",
   "metadata": {},
   "outputs": [
    {
     "name": "stdout",
     "output_type": "stream",
     "text": [
      "Export File progress: |██████████████████████████████████████████████████████████| (done) 100%\n"
     ]
    }
   ],
   "source": [
    "h2o.export_file(res, path = \"h2o.csv\", force = True)"
   ]
  },
  {
   "cell_type": "code",
   "execution_count": null,
   "id": "2de02ad9",
   "metadata": {},
   "outputs": [],
   "source": []
  }
 ],
 "metadata": {
  "kernelspec": {
   "display_name": "Python 3",
   "language": "python",
   "name": "python3"
  },
  "language_info": {
   "codemirror_mode": {
    "name": "ipython",
    "version": 3
   },
   "file_extension": ".py",
   "mimetype": "text/x-python",
   "name": "python",
   "nbconvert_exporter": "python",
   "pygments_lexer": "ipython3",
   "version": "3.8.8"
  }
 },
 "nbformat": 4,
 "nbformat_minor": 5
}
